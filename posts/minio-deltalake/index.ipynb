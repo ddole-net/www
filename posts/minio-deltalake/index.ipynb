{
 "cells": [
  {
   "metadata": {},
   "cell_type": "raw",
   "source": [
    "---\n",
    "title: Building a Lakehouse with Minio and Deltalake\n",
    "---\n",
    "\n",
    "The first step in creating any kind of data processes is setting up a system for efficient storage and querying of your data. There are two major storage concepts for OLAP data storage: Data warehouses and data lakes. Warehouses act as a central source of truth for analytics and reporting processes. Warehouses are designed to efficiently store and query highly structured data. Warehouses are often OLAP databases like ClickHouse or managed offerings like Amazon Redshift, Google BigQuery, or Snowflake.\n",
    "\n",
    "Data Lakes are simply a central storage system for massive amounts of data in any form. This could mean log dumps, json files, CSVs, images... It is also possible to combine the two concepts into the Data Lakehouse. The principle here is storing data using one of the many open table formats(IceBerg, Hudi, Deltalake) in some kind of mass storage, generally cloud object storage like Amazon S3 or Azure Blob Storage. This allows raw, unstructured data to be stored in the same system as structured tabular data. This can provide large cost savings and simplify operations significantly.\n",
    "\n",
    "This notebook will explain how I set up my own personal data lakehouse with Minio and Delta Lake, while performing queries with pyArrow and Polars\n",
    "\n",
    "##  What is A Delta Lake Table\n",
    "A Delta Lake table is simply a collection of parquet files with matching schemas, and a json transaction log. I won't go into too much detail here because it is better explained [here](https://delta-io.github.io/delta-rs/how-delta-lake-works/architecture-of-delta-table/).\n",
    "\n",
    "It is important to remember that unlike a basic parquet file, delta tables can become [polluted](https://delta-io.github.io/delta-rs/usage/managing-tables/) with 'old' files. I will explain below how to manage this in python."
   ],
   "id": "25fd84fc5332029"
  },
  {
   "metadata": {},
   "cell_type": "raw",
   "source": [
    "## Prerequisites\n",
    "\n",
    "1. A Minio Bucket with object locking enabled\n",
    "2. Minio credentials with R/W access to the bucket\n",
    "3. Some tabular data\n",
    "\n",
    "I will be using a [COVID-19 Open-Dataset](https://github.com/GoogleCloudPlatform/covid-19-open-data)."
   ],
   "id": "13803e220fd47174"
  },
  {
   "metadata": {},
   "cell_type": "raw",
   "source": "## Code",
   "id": "40e23aab91a58eec"
  },
  {
   "metadata": {},
   "cell_type": "raw",
   "source": "### Load Environment Variables",
   "id": "1e7d8edea55752cb"
  },
  {
   "metadata": {},
   "cell_type": "code",
   "source": [
    "import os\n",
    "from dotenv import find_dotenv, load_dotenv\n",
    "\n",
    "try:\n",
    "    env_file = find_dotenv(raise_error_if_not_found=True)\n",
    "    load_dotenv(env_file)\n",
    "except IOError as e:\n",
    "    print(e)\n",
    "\n",
    "MINIO_ENDPOINT = os.environ['MINIO_ENDPOINT']\n",
    "MINIO_ACCESS_KEY = os.environ['MINIO_ACCESS_KEY']\n",
    "MINIO_SECRET_KEY = os.environ['MINIO_SECRET_KEY']"
   ],
   "id": "c0785346cbcb07cd",
   "outputs": [],
   "execution_count": null
  },
  {
   "metadata": {},
   "cell_type": "raw",
   "source": "### Download Data",
   "id": "678a56baf8b10ef9"
  },
  {
   "metadata": {},
   "cell_type": "code",
   "source": [
    "import polars as pl\n",
    "data_url = 'https://storage.googleapis.com/covid19-open-data/v3/epidemiology.csv'\n",
    "\n",
    "schema = {\n",
    "    'date': pl.Date,\n",
    "    'location_key': pl.String,\n",
    "    'new_confirmed': pl.Int64,\n",
    "    'new_deceased': pl.Int64,\n",
    "    'new_recovered': pl.Int64,\n",
    "    'new_tested': pl.Int64,\n",
    "    'cumulative_confirmed': pl.Int64,\n",
    "    'cumulative_deceased': pl.Int64,\n",
    "    'cumulative_recovered': pl.Int64,\n",
    "    'cumulative_tested': pl.Int64,\n",
    "}\n",
    "df = pl.read_csv(data_url, schema=schema)\n",
    "\n",
    "df.sample(10)"
   ],
   "id": "e833c4cfe7853608",
   "outputs": [],
   "execution_count": null
  },
  {
   "metadata": {},
   "cell_type": "raw",
   "source": [
    "### Create Empty Deltalake Schema\n",
    "::: { .callout-note }\n",
    "The variable `dtable_schema_name` maps to a key prefix added after the `bucket_name` and before the actual Delta Table files. This means we can store as many different tables in one bucket as we want.\n",
    ":::"
   ],
   "id": "8a6180a009bc71d1"
  },
  {
   "metadata": {},
   "cell_type": "code",
   "source": [
    "from deltalake import DeltaTable\n",
    "\n",
    "# Minio Connection Parameters\n",
    "storage_options = {\n",
    "    'endpoint_url': MINIO_ENDPOINT,\n",
    "    'AWS_ACCESS_KEY_ID': MINIO_ACCESS_KEY,\n",
    "    'AWS_SECRET_ACCESS_KEY': MINIO_SECRET_KEY,\n",
    "    'conditional_put': 'etag' #https://delta-io.github.io/delta-rs/usage/writing/writing-to-s3-with-locking-provider/#enabling-concurrent-writes-for-alternative-clients\n",
    "}\n",
    "bucket_name = 'deltalake-demo'\n",
    "dtable_schema_name = 'covid'\n",
    "\n",
    "dtable_schema = df.to_arrow().schema  # convert dataframe schema to pyArrow\n",
    "\n",
    "dtable = DeltaTable.create(table_uri=f's3a://{bucket_name}/{dtable_schema_name}', schema=dtable_schema,\n",
    "                           storage_options=storage_options)"
   ],
   "id": "b6eb197a9ef0e478",
   "outputs": [],
   "execution_count": null
  },
  {
   "metadata": {},
   "cell_type": "raw",
   "source": "### Write Dataframe to Delta Lake",
   "id": "965b2979d3ce0ab2"
  },
  {
   "metadata": {},
   "cell_type": "code",
   "source": "df.write_delta(dtable, mode='append')",
   "id": "ea79b3bf1a96166d",
   "outputs": [],
   "execution_count": null
  },
  {
   "metadata": {},
   "cell_type": "raw",
   "source": [
    "### Querying the Delta Lake\n",
    "Now that our dataset is in the DeltaLake we have to be able to query it without loading all of it into memory at once. We can use Polars or PyArrow for this purpose.\n",
    "\n",
    "#### Polars"
   ],
   "id": "a11a5582759f7baa"
  },
  {
   "metadata": {},
   "cell_type": "code",
   "source": [
    "# Create a LazyFrame representing the Delta Table\n",
    "ldf = pl.scan_delta(dtable, use_pyarrow=True)\n",
    "ldf.collect_schema()"
   ],
   "id": "487815e450b25727",
   "outputs": [],
   "execution_count": null
  },
  {
   "metadata": {},
   "cell_type": "raw",
   "source": "Return the first 10 records:",
   "id": "32e684fc6dddd7b"
  },
  {
   "metadata": {},
   "cell_type": "code",
   "source": "ldf.head(10).collect()",
   "id": "32c921c1d3ac807b",
   "outputs": [],
   "execution_count": null
  },
  {
   "metadata": {},
   "cell_type": "raw",
   "source": "Find all records in July 2022 and return the first 10:",
   "id": "e64e220b25a2c813"
  },
  {
   "metadata": {},
   "cell_type": "code",
   "source": [
    "ldf.filter(\n",
    "    (pl.col('date') >= pl.date(2022, 7, 1)) &\n",
    "    (pl.col('date') < pl.date(2022, 8, 1))\n",
    ").collect().head(10)"
   ],
   "id": "da659a98622c3f09",
   "outputs": [],
   "execution_count": null
  },
  {
   "metadata": {},
   "cell_type": "raw",
   "source": "Find all records in July 2022 and find the average `new_confirmed` cases per `location_key`:",
   "id": "c3aaec511ec63ab5"
  },
  {
   "metadata": {},
   "cell_type": "code",
   "source": [
    "ldf.filter(\n",
    "    (pl.col('date') >= pl.date(2022, 7, 1)) &\n",
    "    (pl.col('date') < pl.date(2022, 8, 1))\n",
    ").group_by('location_key').agg(pl.col('new_confirmed').mean()).collect().head(10)"
   ],
   "id": "d96ec6a41216b3e1",
   "outputs": [],
   "execution_count": null
  },
  {
   "metadata": {},
   "cell_type": "raw",
   "source": [
    "#### PyArrow\n",
    "::: { .callout-note }\n",
    "While PyArrow doesn't have many of the analytical features of Polars, It excels at transforming massive amounts of data between different storage formats. For example, I use PyArrow to transfer data between DeltaLake tables and ClickHouse databases).\n",
    ":::"
   ],
   "id": "ed366c6021f3c3b6"
  },
  {
   "metadata": {},
   "cell_type": "code",
   "source": [
    "# Instantiate the PyArrow Dataset\n",
    "ds = dtable.to_pyarrow_dataset()\n",
    "ds.schema"
   ],
   "id": "268c75ad88fe17e3",
   "outputs": [],
   "execution_count": null
  },
  {
   "metadata": {},
   "cell_type": "raw",
   "source": "Find all records in July 2022 and find the average `new_confirmed` cases per `location_key`:",
   "id": "dbd316c2b86211e8"
  },
  {
   "metadata": {},
   "cell_type": "code",
   "source": [
    "import pyarrow as pa\n",
    "import pyarrow.compute as pc\n",
    "from datetime import date\n",
    "\n",
    "july_table = ds.filter(\n",
    "    ((pc.field('date') >= pa.scalar(date(2022, 7, 1), type=pa.date32())) &\n",
    "     (pc.field('date') < pa.scalar(date(2022, 8, 1), type=pa.date32()))\n",
    "     )\n",
    ").to_table()\n",
    "\n",
    "result = pa.TableGroupBy(july_table, 'location_key').aggregate([('new_confirmed', 'mean')])\n",
    "result"
   ],
   "id": "e59fe97842712f7f",
   "outputs": [],
   "execution_count": null
  },
  {
   "metadata": {},
   "cell_type": "raw",
   "source": "PyArrow has no integrated way to view data so we have use `result.to_pandas()` or convert the table into a polars df:",
   "id": "3e39113e24361a99"
  },
  {
   "metadata": {},
   "cell_type": "code",
   "source": "pl.DataFrame(result).head(10)",
   "id": "9cf7d2fe6e0a21c",
   "outputs": [],
   "execution_count": null
  },
  {
   "metadata": {},
   "cell_type": "raw",
   "source": [
    "### DeltaLake Maintenance\n",
    "As I mentioned earlier, delta tables will become polluted over time. This can be managed with the following:\n",
    "\n",
    "Compacting the table is useful for turning a table made up of many small files into fewer larger ones."
   ],
   "id": "e7c31e2571a73f82"
  },
  {
   "metadata": {},
   "cell_type": "code",
   "source": "dtable.optimize.compact()",
   "id": "661eaf83dbd26619",
   "outputs": [],
   "execution_count": null
  },
  {
   "metadata": {},
   "cell_type": "raw",
   "source": "The vacuum command is a garbage collector which cleans files which have been marked for deletion. More on this [here](https://delta-io.github.io/delta-rs/usage/managing-tables/).",
   "id": "eeb5225e5408c23f"
  },
  {
   "metadata": {},
   "cell_type": "code",
   "source": "dtable.vacuum() # Does nothing in this instance because we haven't deleted any rows.",
   "id": "4f0c2ac1d74bdafd",
   "outputs": [],
   "execution_count": null
  },
  {
   "metadata": {},
   "cell_type": "raw",
   "source": [
    "## Conclusion\n",
    "Delta Lake is a powerful tool for managing massive amounts of data efficiently and cost-effectively. It provides robust features like ACID transactions, scalable metadata handling, and efficient data storage formats, ensuring data integrity and reliability. By leveraging Delta Lake, organizations can perform complex data operations without compromizing on cost or performance.\n",
    "\n",
    "\n",
    "### Resources\n",
    "- [Delta Lake Python Docs](https://delta-io.github.io/delta-rs/)\n",
    "- [Polars User Guide](https://docs.pola.rs/)\n",
    "- [Polars - DeltaLake integration](https://delta-io.github.io/delta-rs/integrations/delta-lake-polars/)\n",
    "- [PyArrow Docs](https://arrow.apache.org/docs/python/index.html)"
   ],
   "id": "46a945187230d22d"
  }
 ],
 "metadata": {
  "kernelspec": {
   "display_name": "Python 3",
   "language": "python",
   "name": "python3"
  },
  "language_info": {
   "codemirror_mode": {
    "name": "ipython",
    "version": 2
   },
   "file_extension": ".py",
   "mimetype": "text/x-python",
   "name": "python",
   "nbconvert_exporter": "python",
   "pygments_lexer": "ipython2",
   "version": "2.7.6"
  }
 },
 "nbformat": 4,
 "nbformat_minor": 5
}
